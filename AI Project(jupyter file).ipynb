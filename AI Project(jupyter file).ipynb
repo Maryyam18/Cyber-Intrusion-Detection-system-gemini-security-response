{
 "cells": [
  {
   "cell_type": "code",
   "execution_count": 2,
   "id": "26eaff03-f57e-4447-9974-07e4c41aa3db",
   "metadata": {},
   "outputs": [
    {
     "name": "stdout",
     "output_type": "stream",
     "text": [
      "  session_id  network_packet_size protocol_type  login_attempts  \\\n",
      "0  SID_00001                  599           TCP               4   \n",
      "1  SID_00002                  472           TCP               3   \n",
      "2  SID_00003                  629           TCP               3   \n",
      "3  SID_00004                  804           UDP               4   \n",
      "4  SID_00005                  453           TCP               5   \n",
      "\n",
      "   session_duration encryption_used  ip_reputation_score  failed_logins  \\\n",
      "0        492.983263             DES             0.606818              1   \n",
      "1       1557.996461             DES             0.301569              0   \n",
      "2         75.044262             DES             0.739164              2   \n",
      "3        601.248835             DES             0.123267              0   \n",
      "4        532.540888             AES             0.054874              1   \n",
      "\n",
      "  browser_type  unusual_time_access  attack_detected  \n",
      "0         Edge                    0                1  \n",
      "1      Firefox                    0                0  \n",
      "2       Chrome                    0                1  \n",
      "3      Unknown                    0                1  \n",
      "4      Firefox                    0                0  \n"
     ]
    }
   ],
   "source": [
    "import pandas as pd\n",
    "\n",
    "# Load dataset\n",
    "df = pd.read_csv(\"cybersecurity_intrusion_data.csv\")\n",
    "\n",
    "# Display first few rows\n",
    "print(df.head())\n"
   ]
  },
  {
   "cell_type": "code",
   "execution_count": 3,
   "id": "a35ccc1d-39a8-4c95-9267-7b2a8fb6058c",
   "metadata": {},
   "outputs": [
    {
     "name": "stdout",
     "output_type": "stream",
     "text": [
      "Index(['session_id', 'network_packet_size', 'protocol_type', 'login_attempts',\n",
      "       'session_duration', 'encryption_used', 'ip_reputation_score',\n",
      "       'failed_logins', 'browser_type', 'unusual_time_access',\n",
      "       'attack_detected'],\n",
      "      dtype='object')\n"
     ]
    }
   ],
   "source": [
    "# Display column names\n",
    "print(df.columns)\n"
   ]
  },
  {
   "cell_type": "code",
   "execution_count": 4,
   "id": "8033141e-0d51-4f21-a234-5561c82e8077",
   "metadata": {},
   "outputs": [
    {
     "name": "stdout",
     "output_type": "stream",
     "text": [
      "session_id                0\n",
      "network_packet_size       0\n",
      "protocol_type             0\n",
      "login_attempts            0\n",
      "session_duration          0\n",
      "encryption_used        1966\n",
      "ip_reputation_score       0\n",
      "failed_logins             0\n",
      "browser_type              0\n",
      "unusual_time_access       0\n",
      "attack_detected           0\n",
      "dtype: int64\n"
     ]
    }
   ],
   "source": [
    "# Check for missing values\n",
    "print(df.isnull().sum())\n"
   ]
  },
  {
   "cell_type": "code",
   "execution_count": 6,
   "id": "b6e2d61c-ac2b-4544-bafb-d165b9780542",
   "metadata": {},
   "outputs": [],
   "source": [
    "df.loc[:, 'encryption_used'] = df['encryption_used'].fillna(df['encryption_used'].mode()[0])\n"
   ]
  },
  {
   "cell_type": "code",
   "execution_count": 7,
   "id": "e0dfdeb5-b058-46fe-bfbb-5fb9a682c43d",
   "metadata": {},
   "outputs": [
    {
     "name": "stdout",
     "output_type": "stream",
     "text": [
      "session_id             0\n",
      "network_packet_size    0\n",
      "protocol_type          0\n",
      "login_attempts         0\n",
      "session_duration       0\n",
      "encryption_used        0\n",
      "ip_reputation_score    0\n",
      "failed_logins          0\n",
      "browser_type           0\n",
      "unusual_time_access    0\n",
      "attack_detected        0\n",
      "dtype: int64\n"
     ]
    }
   ],
   "source": [
    "# Check for any remaining missing values\n",
    "print(df.isnull().sum())\n"
   ]
  },
  {
   "cell_type": "code",
   "execution_count": 8,
   "id": "0b77160f-05b9-401f-9377-ba4b95e6c7e8",
   "metadata": {},
   "outputs": [
    {
     "name": "stdout",
     "output_type": "stream",
     "text": [
      "session_id              object\n",
      "network_packet_size      int64\n",
      "protocol_type           object\n",
      "login_attempts           int64\n",
      "session_duration       float64\n",
      "encryption_used         object\n",
      "ip_reputation_score    float64\n",
      "failed_logins            int64\n",
      "browser_type            object\n",
      "unusual_time_access      int64\n",
      "attack_detected          int64\n",
      "dtype: object\n"
     ]
    }
   ],
   "source": [
    "# Check data types\n",
    "print(df.dtypes)\n"
   ]
  },
  {
   "cell_type": "code",
   "execution_count": 9,
   "id": "5d62ac0b-629e-466d-a177-ae5e9f6f75f9",
   "metadata": {},
   "outputs": [],
   "source": [
    "df['protocol_type'] = df['protocol_type'].map({'TCP': 0, 'UDP': 1})\n"
   ]
  },
  {
   "cell_type": "code",
   "execution_count": 10,
   "id": "3d491ea3-2853-47bf-b6ab-fe21a284607f",
   "metadata": {},
   "outputs": [],
   "source": [
    "df['encryption_used'] = df['encryption_used'].map({'DES': 0, 'AES': 1})\n"
   ]
  },
  {
   "cell_type": "code",
   "execution_count": 11,
   "id": "8fdf7bdc-4f35-4149-9d3b-80ea499d9a4e",
   "metadata": {},
   "outputs": [],
   "source": [
    "df['browser_type'] = df['browser_type'].map({'Chrome': 0, 'Firefox': 1, 'Edge': 2, 'Unknown': 3})\n"
   ]
  },
  {
   "cell_type": "code",
   "execution_count": 12,
   "id": "97e8c153-18c8-4ad1-bda5-a04047170717",
   "metadata": {},
   "outputs": [
    {
     "name": "stdout",
     "output_type": "stream",
     "text": [
      "  session_id  network_packet_size  protocol_type  login_attempts  \\\n",
      "0  SID_00001                  599            0.0               4   \n",
      "1  SID_00002                  472            0.0               3   \n",
      "2  SID_00003                  629            0.0               3   \n",
      "3  SID_00004                  804            1.0               4   \n",
      "4  SID_00005                  453            0.0               5   \n",
      "\n",
      "   session_duration  encryption_used  ip_reputation_score  failed_logins  \\\n",
      "0        492.983263                0             0.606818              1   \n",
      "1       1557.996461                0             0.301569              0   \n",
      "2         75.044262                0             0.739164              2   \n",
      "3        601.248835                0             0.123267              0   \n",
      "4        532.540888                1             0.054874              1   \n",
      "\n",
      "   browser_type  unusual_time_access  attack_detected  \n",
      "0           2.0                    0                1  \n",
      "1           1.0                    0                0  \n",
      "2           0.0                    0                1  \n",
      "3           3.0                    0                1  \n",
      "4           1.0                    0                0  \n",
      "session_id              object\n",
      "network_packet_size      int64\n",
      "protocol_type          float64\n",
      "login_attempts           int64\n",
      "session_duration       float64\n",
      "encryption_used          int64\n",
      "ip_reputation_score    float64\n",
      "failed_logins            int64\n",
      "browser_type           float64\n",
      "unusual_time_access      int64\n",
      "attack_detected          int64\n",
      "dtype: object\n"
     ]
    }
   ],
   "source": [
    "print(df.head())  # Shows first few rows to confirm changes\n",
    "print(df.dtypes)  # Ensures all categorical values are now numerical\n"
   ]
  },
  {
   "cell_type": "code",
   "execution_count": 14,
   "id": "800a96cb-c05c-4a49-a515-86ba6f1804a2",
   "metadata": {},
   "outputs": [
    {
     "name": "stdout",
     "output_type": "stream",
     "text": [
      "protocol_type    507\n",
      "browser_type     485\n",
      "dtype: int64\n",
      "protocol_type    0\n",
      "browser_type     0\n",
      "dtype: int64\n"
     ]
    }
   ],
   "source": [
    "print(df[['protocol_type', 'browser_type']].isna().sum())  # Check NaNs\n",
    "print(df[['protocol_type', 'browser_type']].isin([float('inf')]).sum())  # Check infinity values\n"
   ]
  },
  {
   "cell_type": "code",
   "execution_count": 17,
   "id": "dc4cea97-d6cf-4f91-9ee7-1c9305bd8fd9",
   "metadata": {},
   "outputs": [],
   "source": [
    "df['protocol_type'] = df['protocol_type'].astype(int)\n",
    "df['browser_type'] = df['browser_type'].astype(int)\n"
   ]
  },
  {
   "cell_type": "code",
   "execution_count": 18,
   "id": "a63d65f5-9ae5-45f8-af97-e504543f1fbe",
   "metadata": {},
   "outputs": [
    {
     "name": "stdout",
     "output_type": "stream",
     "text": [
      "session_id              object\n",
      "network_packet_size      int64\n",
      "protocol_type            int32\n",
      "login_attempts           int64\n",
      "session_duration       float64\n",
      "encryption_used          int64\n",
      "ip_reputation_score    float64\n",
      "failed_logins            int64\n",
      "browser_type             int32\n",
      "unusual_time_access      int64\n",
      "attack_detected          int64\n",
      "dtype: object\n",
      "   protocol_type  browser_type\n",
      "0              0             2\n",
      "1              0             1\n",
      "2              0             0\n",
      "3              1             3\n",
      "4              0             1\n"
     ]
    }
   ],
   "source": [
    "print(df.dtypes)  # Ensure `protocol_type` and `browser_type` are int64\n",
    "print(df[['protocol_type', 'browser_type']].head())  # Verify data structure\n"
   ]
  },
  {
   "cell_type": "code",
   "execution_count": 19,
   "id": "9d631b5d-0c5c-431a-b2b2-4d1fd12093d9",
   "metadata": {},
   "outputs": [],
   "source": [
    "from sklearn.preprocessing import MinMaxScaler\n",
    "\n",
    "scaler = MinMaxScaler()\n",
    "df[['network_packet_size', 'session_duration', 'ip_reputation_score']] = scaler.fit_transform(df[['network_packet_size', 'session_duration', 'ip_reputation_score']])\n"
   ]
  },
  {
   "cell_type": "code",
   "execution_count": 20,
   "id": "6884ed0d-7899-48bc-9c13-4db9c22f7337",
   "metadata": {},
   "outputs": [
    {
     "name": "stdout",
     "output_type": "stream",
     "text": [
      "       network_packet_size  session_duration  ip_reputation_score\n",
      "count          9537.000000       9537.000000          9537.000000\n",
      "mean              0.357437          0.110189             0.356737\n",
      "std               0.162473          0.109398             0.192205\n",
      "min               0.000000          0.000000             0.000000\n",
      "25%               0.246519          0.032191             0.205521\n",
      "50%               0.356265          0.077300             0.338773\n",
      "75%               0.467649          0.153671             0.489141\n",
      "max               1.000000          1.000000             1.000000\n"
     ]
    }
   ],
   "source": [
    "print(df[['network_packet_size', 'session_duration', 'ip_reputation_score']].describe())\n"
   ]
  },
  {
   "cell_type": "code",
   "execution_count": 21,
   "id": "80767a02-5aa9-45e6-bf50-e1b5a9427376",
   "metadata": {},
   "outputs": [
    {
     "name": "stdout",
     "output_type": "stream",
     "text": [
      "       network_packet_size  session_duration  ip_reputation_score\n",
      "count          9537.000000       9537.000000          9537.000000\n",
      "mean              0.357437          0.110189             0.356737\n",
      "std               0.162473          0.109398             0.192205\n",
      "min               0.000000          0.000000             0.000000\n",
      "25%               0.246519          0.032191             0.205521\n",
      "50%               0.356265          0.077300             0.338773\n",
      "75%               0.467649          0.153671             0.489141\n",
      "max               1.000000          1.000000             1.000000\n"
     ]
    }
   ],
   "source": [
    "print(df[['network_packet_size', 'session_duration', 'ip_reputation_score']].describe())\n"
   ]
  },
  {
   "cell_type": "code",
   "execution_count": 22,
   "id": "48697fef-55a0-441d-98c1-5310ebb50111",
   "metadata": {},
   "outputs": [],
   "source": [
    "# Separate features (X) and target (y)\n",
    "X = df.drop(columns=['session_id', 'attack_detected'])  # Removing session_id (not useful for ML)\n",
    "y = df['attack_detected']\n"
   ]
  },
  {
   "cell_type": "code",
   "execution_count": 23,
   "id": "dc234f75-55d8-453f-844d-3f976e7d163f",
   "metadata": {},
   "outputs": [],
   "source": [
    "from sklearn.model_selection import train_test_split\n",
    "\n",
    "# 80% training, 20% testing\n",
    "X_train, X_test, y_train, y_test = train_test_split(X, y, test_size=0.2, random_state=42)\n"
   ]
  },
  {
   "cell_type": "code",
   "execution_count": 24,
   "id": "60aedbf8-8fb3-4b84-a312-d9caedf2b769",
   "metadata": {},
   "outputs": [
    {
     "name": "stdout",
     "output_type": "stream",
     "text": [
      "Logistic Regression Accuracy: 0.7521\n",
      "Decision Tree Accuracy: 0.8344\n",
      "Random Forest Accuracy: 0.8962\n",
      "SVM Accuracy: 0.8438\n",
      "KNN Accuracy: 0.8417\n",
      "Naïve Bayes Accuracy: 0.8260\n",
      "Neural Network Accuracy: 0.8873\n",
      "\n",
      "Best Performing Model: Random Forest with Accuracy: 0.8962\n"
     ]
    }
   ],
   "source": [
    "from sklearn.model_selection import train_test_split\n",
    "from sklearn.metrics import accuracy_score\n",
    "from sklearn.linear_model import LogisticRegression\n",
    "from sklearn.tree import DecisionTreeClassifier\n",
    "from sklearn.ensemble import RandomForestClassifier\n",
    "from sklearn.svm import SVC\n",
    "from sklearn.neighbors import KNeighborsClassifier\n",
    "from sklearn.naive_bayes import GaussianNB\n",
    "from sklearn.neural_network import MLPClassifier\n",
    "\n",
    "# Define X (features) and y (target)\n",
    "X = df.drop(columns=['session_id', 'attack_detected'])\n",
    "y = df['attack_detected']\n",
    "\n",
    "# Split data into training and testing sets\n",
    "X_train, X_test, y_train, y_test = train_test_split(X, y, test_size=0.2, random_state=42)\n",
    "\n",
    "# Define models\n",
    "models = {\n",
    "    \"Logistic Regression\": LogisticRegression(),\n",
    "    \"Decision Tree\": DecisionTreeClassifier(),\n",
    "    \"Random Forest\": RandomForestClassifier(),\n",
    "    \"SVM\": SVC(),\n",
    "    \"KNN\": KNeighborsClassifier(),\n",
    "    \"Naïve Bayes\": GaussianNB(),\n",
    "    \"Neural Network\": MLPClassifier(max_iter=500)\n",
    "}\n",
    "\n",
    "# Train & evaluate each model\n",
    "accuracy_results = {}\n",
    "for name, model in models.items():\n",
    "    model.fit(X_train, y_train)\n",
    "    y_pred = model.predict(X_test)\n",
    "    accuracy = accuracy_score(y_test, y_pred)\n",
    "    accuracy_results[name] = accuracy\n",
    "    print(f\"{name} Accuracy: {accuracy:.4f}\")\n",
    "\n",
    "# Find the best model\n",
    "best_model = max(accuracy_results, key=accuracy_results.get)\n",
    "print(f\"\\nBest Performing Model: {best_model} with Accuracy: {accuracy_results[best_model]:.4f}\")\n"
   ]
  },
  {
   "cell_type": "code",
   "execution_count": 25,
   "id": "903de9c6-9b7f-4b5a-abae-34ee45d50422",
   "metadata": {},
   "outputs": [],
   "source": [
    "import joblib\n",
    "\n",
    "# Save Random Forest model\n",
    "joblib.dump(models['Random Forest'], 'cyber_intrusion_model.pkl')\n",
    "\n",
    "# Load model later when needed\n",
    "loaded_model = joblib.load('cyber_intrusion_model.pkl')\n"
   ]
  },
  {
   "cell_type": "code",
   "execution_count": null,
   "id": "88f02ac2-d095-46c5-bbb3-bbf97f22e429",
   "metadata": {},
   "outputs": [],
   "source": []
  }
 ],
 "metadata": {
  "kernelspec": {
   "display_name": "Python 3 (ipykernel)",
   "language": "python",
   "name": "python3"
  },
  "language_info": {
   "codemirror_mode": {
    "name": "ipython",
    "version": 3
   },
   "file_extension": ".py",
   "mimetype": "text/x-python",
   "name": "python",
   "nbconvert_exporter": "python",
   "pygments_lexer": "ipython3",
   "version": "3.12.7"
  }
 },
 "nbformat": 4,
 "nbformat_minor": 5
}
